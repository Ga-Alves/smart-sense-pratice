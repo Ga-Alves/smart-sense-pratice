{
 "cells": [
  {
   "cell_type": "code",
   "execution_count": 1,
   "metadata": {},
   "outputs": [],
   "source": [
    "import numpy as np\n",
    "import matplotlib.pyplot as plt\n",
    "\n",
    "# Sklearn utils functions\n",
    "from sklearn.model_selection import train_test_split\n",
    "from sklearn.metrics import accuracy_score\n",
    "\n",
    "# Datasets\n",
    "from sklearn.datasets import load_iris\n",
    "from sklearn.datasets import load_breast_cancer"
   ]
  },
  {
   "cell_type": "code",
   "execution_count": 2,
   "metadata": {},
   "outputs": [],
   "source": [
    "class Perceptron:\n",
    "    def __init__(self, inputDimension:int, learningRate:int = 0.01, epochThreshould:int = 10_000):\n",
    "        self.weights = np.random.rand(inputDimension)\n",
    "        self.bias = np.random.rand()\n",
    "        self.learningRate = learningRate\n",
    "        self.epochThreshould = epochThreshould\n",
    "\n",
    "    def predict(self, xi):\n",
    "        # soma ponderada\n",
    "        predictValue = xi@self.weights + self.bias\n",
    "        \n",
    "        #função de ativação, signal\n",
    "        predictValue = 1 if predictValue >= 0 else 0\n",
    "        return predictValue\n",
    "    \n",
    "    def train(self, x, y):\n",
    "        # x matriz (m, n). Linha representa uma amostra de dimensão n.\n",
    "        # y array (m, 1). label de cada amostra.\n",
    "\n",
    "        someError = True\n",
    "        while(someError and self.epochThreshould >= 0):\n",
    "            self.epochThreshould -= 1\n",
    "            someError = False\n",
    "\n",
    "            for i in range(len(y)):\n",
    "                predictValue = self.predict(x[i,:])\n",
    "                if(predictValue != y[i]):\n",
    "                    someError = True\n",
    "                    erro = y[i] - predictValue\n",
    "\n",
    "                    for j in range(len(self.weights)):\n",
    "                        self.weights[j] += self.learningRate*erro*x[i][j]\n",
    "\n",
    "                    self.bias += self.learningRate*erro\n",
    "        \n",
    "    def trainWithoutConditional(self, x, y):\n",
    "        # Função para testar a relevância da estrutura condicional no treino\n",
    "        # x matriz (m, n). Linha representa uma amostra de dimensão n.\n",
    "        # y array (m, 1). label de cada amostra.\n",
    "\n",
    "        someError = True\n",
    "        while(someError and self.epochThreshould >= 0):\n",
    "            self.epochThreshould -= 1\n",
    "            someError = False\n",
    "\n",
    "            for i in range(len(y)):\n",
    "                predictValue = self.predict(x[i,:])\n",
    "                someError = someError or predictValue != y[i]\n",
    "                erro = y[i] - predictValue\n",
    "\n",
    "                for j in range(len(self.weights)):\n",
    "                    self.weights[j] += self.learningRate*erro*x[i][j]\n",
    "\n",
    "                self.bias += self.learningRate*erro\n",
    "\n",
    "    def getWeights(self):\n",
    "        return self.bias, self.weights\n",
    "    \n",
    "\n",
    "\n",
    "\n",
    "def perf_measure(y_actual, y_hat):\n",
    "    TP = 0\n",
    "    FP = 0\n",
    "    TN = 0\n",
    "    FN = 0\n",
    "\n",
    "    for i in range(len(y_hat)): \n",
    "        if y_actual[i]==y_hat[i]==1:\n",
    "           TP += 1\n",
    "        if y_hat[i]==1 and y_actual[i]!=y_hat[i]:\n",
    "           FP += 1\n",
    "        if y_actual[i]==y_hat[i]==0:\n",
    "           TN += 1\n",
    "        if y_hat[i]==0 and y_actual[i]!=y_hat[i]:\n",
    "           FN += 1\n",
    "\n",
    "    return(TP, FP, TN, FN)\n",
    "    \n",
    "        \n",
    "                    \n"
   ]
  },
  {
   "cell_type": "markdown",
   "metadata": {},
   "source": [
    "# Iris Dataset\n",
    "Por limitações do Perceptron ( i.e. separabilidade lienar e classificação binária ) usaremos apenas Iris Setosa e Versicolor."
   ]
  },
  {
   "cell_type": "code",
   "execution_count": 3,
   "metadata": {},
   "outputs": [],
   "source": [
    "data = load_iris()\n",
    "data.keys()\n",
    "\n",
    "# Retirando Iris Virginica do Dataset\n",
    "filter = data.target != 2\n",
    "\n",
    "X = data.data[filter]\n",
    "Y = data.target[filter]"
   ]
  },
  {
   "cell_type": "code",
   "execution_count": 4,
   "metadata": {},
   "outputs": [
    {
     "data": {
      "image/png": "[encoded data removed]",
      "text/plain": [
       "<Figure size 640x480 with 1 Axes>"
      ]
     },
     "metadata": {},
     "output_type": "display_data"
    }
   ],
   "source": [
    "feature1 = 0\n",
    "feature2 = 1\n",
    "X = X[:, [feature1,feature2]]\n",
    "\n",
    "\n",
    "filterSetosa = Y == 0\n",
    "filterVersicolor = Y != 0\n",
    "XSetosa = X[filterSetosa]\n",
    "XVersicolor = X[filterVersicolor]\n",
    "\n",
    "YSetosa = Y[filterSetosa]\n",
    "YVersicolor = Y[filterVersicolor]\n",
    "\n",
    "\n",
    "plt.scatter(XSetosa[:, 0], XSetosa[:, 1],label='Setosa',  c='red')\n",
    "plt.scatter(XVersicolor[:,0], XVersicolor[:, 1], label='Versicolor', c='blue')\n",
    "plt.xlabel(data.feature_names[feature1])\n",
    "plt.ylabel(data.feature_names[feature2])\n",
    "plt.legend()\n",
    "plt.show()"
   ]
  },
  {
   "cell_type": "markdown",
   "metadata": {},
   "source": [
    "## Train"
   ]
  },
  {
   "cell_type": "code",
   "execution_count": 5,
   "metadata": {},
   "outputs": [],
   "source": [
    "X_train, X_test, Y_train, Y_test = train_test_split(X, Y, test_size=0.30, random_state=42)\n",
    "\n",
    "inputDimension = X_train.shape[1]\n",
    "neuron = Perceptron(inputDimension)\n",
    "neuron.train(X_train, Y_train)"
   ]
  },
  {
   "cell_type": "markdown",
   "metadata": {},
   "source": [
    "## Test"
   ]
  },
  {
   "cell_type": "code",
   "execution_count": 6,
   "metadata": {},
   "outputs": [
    {
     "data": {
      "image/png": "[encoded data removed]",
      "text/plain": [
       "<Figure size 640x480 with 1 Axes>"
      ]
     },
     "metadata": {},
     "output_type": "display_data"
    },
    {
     "name": "stdout",
     "output_type": "stream",
     "text": [
      "Accuracy: 1.0\n"
     ]
    }
   ],
   "source": [
    "# Ploting test\n",
    "filterSetosa = Y_test == 0\n",
    "filterVersicolor = Y_test == 1\n",
    "\n",
    "XSetosaTest = X_test[filterSetosa]\n",
    "XVersicolorTest = X_test[filterVersicolor]\n",
    "\n",
    "YSetosa = Y_test[filterSetosa]\n",
    "YVersicolor = Y_test[filterVersicolor]\n",
    "\n",
    "plt.scatter(XSetosaTest[:, 0], XSetosaTest[:, 1],label='Setosa',  c='red')\n",
    "plt.scatter(XVersicolorTest[:, 0], XVersicolorTest[:, 1], label='Versicolor', c='blue')\n",
    "plt.xlabel(data.feature_names[feature1])\n",
    "plt.ylabel(data.feature_names[feature2])\n",
    "plt.legend()\n",
    "\n",
    "\n",
    "bias, weights = neuron.getWeights()\n",
    "x = np.arange(min(X[:, 0]), max(X[:,0]), 0.01)\n",
    "fx = [(-weights[0]*p-bias)/weights[1] for p in x ]\n",
    "plt.plot(x, fx, lw=2)\n",
    "\n",
    "plt.show()\n",
    "\n",
    "# Find metrics\n",
    "Y_Predict = []\n",
    "for x in X_test:\n",
    "    Y_Predict.append(neuron.predict(x))\n",
    "\n",
    "accuracy = accuracy_score(Y_test, Y_Predict)\n",
    "print(f'Accuracy: {accuracy}')"
   ]
  },
  {
   "cell_type": "markdown",
   "metadata": {},
   "source": [
    "# Cancer Dataset"
   ]
  },
  {
   "cell_type": "code",
   "execution_count": 7,
   "metadata": {},
   "outputs": [
    {
     "data": {
      "text/plain": [
       "(569, 30)"
      ]
     },
     "execution_count": 7,
     "metadata": {},
     "output_type": "execute_result"
    }
   ],
   "source": [
    "data = load_breast_cancer()\n",
    "data.data.shape"
   ]
  },
  {
   "cell_type": "markdown",
   "metadata": {},
   "source": [
    "## Training"
   ]
  },
  {
   "cell_type": "code",
   "execution_count": 8,
   "metadata": {},
   "outputs": [],
   "source": [
    "X_train, X_test, Y_train, Y_test = train_test_split(data.data, data.target, test_size=0.30, random_state=42)\n",
    "\n",
    "inputDimension = X_train.shape[1]\n",
    "neuron = Perceptron(inputDimension)"
   ]
  },
  {
   "cell_type": "code",
   "execution_count": 9,
   "metadata": {},
   "outputs": [],
   "source": [
    "neuron.train(X_train, Y_train)"
   ]
  },
  {
   "cell_type": "markdown",
   "metadata": {},
   "source": [
    "## Testing"
   ]
  },
  {
   "cell_type": "code",
   "execution_count": 10,
   "metadata": {},
   "outputs": [
    {
     "name": "stdout",
     "output_type": "stream",
     "text": [
      "Accuracy: 0.9415204678362573 False Negative: 0.0\n"
     ]
    }
   ],
   "source": [
    "Y_Predict = []\n",
    "for x in X_test:\n",
    "    Y_Predict.append(neuron.predict(x))\n",
    "\n",
    "accuracy = accuracy_score(Y_test, Y_Predict)\n",
    "TP, FP, TN, FN = perf_measure(Y_test, Y_Predict)\n",
    "\n",
    "print(f'Accuracy: {accuracy} False Negative: {FN/(TP+FP+TN+FN)}')"
   ]
  },
  {
   "cell_type": "markdown",
   "metadata": {},
   "source": [
    "# Análise treino sem condicional\n",
    "A ideia é verificar o quanto a condicional afeta em termos de desempenho no treino"
   ]
  },
  {
   "cell_type": "markdown",
   "metadata": {},
   "source": [
    "## Iris"
   ]
  },
  {
   "cell_type": "code",
   "execution_count": 11,
   "metadata": {},
   "outputs": [],
   "source": [
    "data = load_iris()\n",
    "\n",
    "# Retirando Iris Virginica do Dataset\n",
    "filter = data.target != 2\n",
    "\n",
    "X = data.data[filter]\n",
    "Y = data.target[filter]\n",
    "\n",
    "feature1 = 0\n",
    "feature2 = 1\n",
    "X = X[:, [feature1,feature2]]"
   ]
  },
  {
   "cell_type": "code",
   "execution_count": 12,
   "metadata": {},
   "outputs": [],
   "source": [
    "X_train, X_test, Y_train, Y_test = train_test_split(X, Y, test_size=0.30, random_state=42)\n",
    "\n",
    "inputDimension = X_train.shape[1]\n",
    "neuron1 = Perceptron(inputDimension)\n",
    "neuron2 = Perceptron(inputDimension)"
   ]
  },
  {
   "cell_type": "code",
   "execution_count": 13,
   "metadata": {},
   "outputs": [
    {
     "name": "stdout",
     "output_type": "stream",
     "text": [
      "Input Dimension: 2 Y_train Dimension: (70,)\n"
     ]
    }
   ],
   "source": [
    "print(f'Input Dimension: {inputDimension} Y_train Dimension: {Y_train.shape}')"
   ]
  },
  {
   "cell_type": "code",
   "execution_count": 14,
   "metadata": {},
   "outputs": [],
   "source": [
    "neuron1.trainWithoutConditional(X_train, Y_train)"
   ]
  },
  {
   "cell_type": "code",
   "execution_count": 15,
   "metadata": {},
   "outputs": [],
   "source": [
    "neuron2.train(X_train, Y_train)"
   ]
  },
  {
   "cell_type": "markdown",
   "metadata": {},
   "source": [
    "## Cancer Dataset"
   ]
  },
  {
   "cell_type": "code",
   "execution_count": 16,
   "metadata": {},
   "outputs": [],
   "source": [
    "data = load_breast_cancer()\n",
    "\n",
    "X_train, X_test, Y_train, Y_test = train_test_split(data.data, data.target, test_size=0.30, random_state=42)\n",
    "\n",
    "inputDimension = X_train.shape[1]\n",
    "neuron1 = Perceptron(inputDimension)\n",
    "neuron2 = Perceptron(inputDimension)"
   ]
  },
  {
   "cell_type": "code",
   "execution_count": 17,
   "metadata": {},
   "outputs": [
    {
     "name": "stdout",
     "output_type": "stream",
     "text": [
      "Input Dimension: 30 Y_train Dimension: (398,)\n"
     ]
    }
   ],
   "source": [
    "print(f'Input Dimension: {inputDimension} Y_train Dimension: {Y_train.shape}')"
   ]
  },
  {
   "cell_type": "code",
   "execution_count": 18,
   "metadata": {},
   "outputs": [],
   "source": [
    "neuron1.trainWithoutConditional(X_train, Y_train)"
   ]
  },
  {
   "cell_type": "code",
   "execution_count": 19,
   "metadata": {},
   "outputs": [],
   "source": [
    "neuron2.train(X_train, Y_train)"
   ]
  }
 ],
 "metadata": {
  "kernelspec": {
   "display_name": "Python 3",
   "language": "python",
   "name": "python3"
  },
  "language_info": {
   "codemirror_mode": {
    "name": "ipython",
    "version": 3
   },
   "file_extension": ".py",
   "mimetype": "text/x-python",
   "name": "python",
   "nbconvert_exporter": "python",
   "pygments_lexer": "ipython3",
   "version": "3.10.12"
  },
  "orig_nbformat": 4
 },
 "nbformat": 4,
 "nbformat_minor": 2
}
