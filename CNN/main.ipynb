{
 "cells": [
  {
   "cell_type": "code",
   "execution_count": 58,
   "metadata": {},
   "outputs": [],
   "source": [
    "# Keras\n",
    "from tensorflow import keras\n",
    "from keras import layers\n",
    "from tensorflow.keras.models import Model\n",
    "\n",
    "#SciKit\n",
    "from sklearn.metrics import confusion_matrix\n",
    "\n",
    "#matplot\n",
    "import matplotlib.pyplot as plt\n",
    "\n",
    "#Numpy\n",
    "import numpy as np"
   ]
  },
  {
   "cell_type": "markdown",
   "metadata": {},
   "source": [
    "# Loading [Mnist](https://keras.io/api/datasets/mnist/) dataset"
   ]
  },
  {
   "cell_type": "code",
   "execution_count": 59,
   "metadata": {},
   "outputs": [],
   "source": [
    "\n",
    "np.random.seed(123)\n",
    "(x_train, y_train), (x_test, y_test) = keras.datasets.mnist.load_data()\n",
    "\n",
    "x_train = x_train/255\n",
    "x_test =x_test/255\n",
    "\n",
    "y_train_onehot = keras.utils.to_categorical(y_train, 10)\n",
    "y_test_onehot = keras.utils.to_categorical(y_test, 10)"
   ]
  },
  {
   "cell_type": "code",
   "execution_count": 60,
   "metadata": {},
   "outputs": [
    {
     "data": {
      "image/png": "[encoded data removed]",
      "text/plain": [
       "<Figure size 640x480 with 1 Axes>"
      ]
     },
     "metadata": {},
     "output_type": "display_data"
    }
   ],
   "source": [
    "img = x_train[0]\n",
    "plt.imshow(img, cmap='gray')\n",
    "plt.show()"
   ]
  },
  {
   "cell_type": "markdown",
   "metadata": {},
   "source": [
    "# LeNet"
   ]
  },
  {
   "cell_type": "code",
   "execution_count": 61,
   "metadata": {},
   "outputs": [],
   "source": [
    "model = keras.Sequential()\n",
    "\n",
    "model.add(layers.Conv2D(filters=6, kernel_size=(5, 5), activation='relu', input_shape=(28,28,1)))\n",
    "model.add(layers.AveragePooling2D())\n",
    "\n",
    "model.add(layers.Conv2D(filters=16, kernel_size=(5, 5), activation='relu'))\n",
    "model.add(layers.AveragePooling2D())\n",
    "\n",
    "model.add(layers.Flatten())\n",
    "\n",
    "model.add(layers.Dense(units=120, activation='relu'))\n",
    "\n",
    "model.add(layers.Dense(units=84, activation='relu'))\n",
    "\n",
    "model.add(layers.Dense(units=10, activation = 'softmax'))"
   ]
  },
  {
   "cell_type": "code",
   "execution_count": 62,
   "metadata": {},
   "outputs": [
    {
     "name": "stdout",
     "output_type": "stream",
     "text": [
      "Model: \"sequential_10\"\n",
      "_________________________________________________________________\n",
      " Layer (type)                Output Shape              Param #   \n",
      "=================================================================\n",
      " conv2d_20 (Conv2D)          (None, 24, 24, 6)         156       \n",
      "                                                                 \n",
      " average_pooling2d_20 (Aver  (None, 12, 12, 6)         0         \n",
      " agePooling2D)                                                   \n",
      "                                                                 \n",
      " conv2d_21 (Conv2D)          (None, 8, 8, 16)          2416      \n",
      "                                                                 \n",
      " average_pooling2d_21 (Aver  (None, 4, 4, 16)          0         \n",
      " agePooling2D)                                                   \n",
      "                                                                 \n",
      " flatten_10 (Flatten)        (None, 256)               0         \n",
      "                                                                 \n",
      " dense_30 (Dense)            (None, 120)               30840     \n",
      "                                                                 \n",
      " dense_31 (Dense)            (None, 84)                10164     \n",
      "                                                                 \n",
      " dense_32 (Dense)            (None, 10)                850       \n",
      "                                                                 \n",
      "=================================================================\n",
      "Total params: 44426 (173.54 KB)\n",
      "Trainable params: 44426 (173.54 KB)\n",
      "Non-trainable params: 0 (0.00 Byte)\n",
      "_________________________________________________________________\n"
     ]
    }
   ],
   "source": [
    "model.build()\n",
    "model.summary()"
   ]
  },
  {
   "cell_type": "markdown",
   "metadata": {},
   "source": [
    "## Training Phase"
   ]
  },
  {
   "cell_type": "code",
   "execution_count": 63,
   "metadata": {},
   "outputs": [
    {
     "name": "stdout",
     "output_type": "stream",
     "text": [
      "Epoch 1/5\n",
      "469/469 [==============================] - 6s 12ms/step - loss: 0.3834 - accuracy: 0.8844 - precision_6: 0.9358 - recall_6: 0.8396\n",
      "Epoch 2/5\n",
      "469/469 [==============================] - 5s 11ms/step - loss: 0.1220 - accuracy: 0.9635 - precision_6: 0.9694 - recall_6: 0.9581\n",
      "Epoch 3/5\n",
      "469/469 [==============================] - 5s 11ms/step - loss: 0.0816 - accuracy: 0.9749 - precision_6: 0.9789 - recall_6: 0.9720\n",
      "Epoch 4/5\n",
      "469/469 [==============================] - 5s 12ms/step - loss: 0.0655 - accuracy: 0.9796 - precision_6: 0.9820 - recall_6: 0.9775\n",
      "Epoch 5/5\n",
      "469/469 [==============================] - 7s 15ms/step - loss: 0.0546 - accuracy: 0.9834 - precision_6: 0.9854 - recall_6: 0.9818\n"
     ]
    },
    {
     "data": {
      "text/plain": [
       "<keras.src.callbacks.History at 0x7efe424db130>"
      ]
     },
     "execution_count": 63,
     "metadata": {},
     "output_type": "execute_result"
    }
   ],
   "source": [
    "precision = keras.metrics.Precision()\n",
    "recall = keras.metrics.Recall()\n",
    "model.compile(loss='categorical_crossentropy',\n",
    "            optimizer='adam',\n",
    "            metrics=['accuracy', precision, recall])\n",
    "\n",
    "model.fit(x_train, y_train_onehot,\n",
    "          batch_size=128, epochs=5, verbose=1)"
   ]
  },
  {
   "cell_type": "markdown",
   "metadata": {},
   "source": [
    "## Test Phase"
   ]
  },
  {
   "cell_type": "markdown",
   "metadata": {},
   "source": [
    "Evaluate"
   ]
  },
  {
   "cell_type": "code",
   "execution_count": 64,
   "metadata": {},
   "outputs": [
    {
     "name": "stdout",
     "output_type": "stream",
     "text": [
      "313/313 [==============================] - 1s 3ms/step - loss: 0.0473 - accuracy: 0.9847 - precision_6: 0.9868 - recall_6: 0.9825\n"
     ]
    }
   ],
   "source": [
    "score = model.evaluate(x_test, y_test_onehot, verbose=1)"
   ]
  },
  {
   "cell_type": "markdown",
   "metadata": {},
   "source": [
    "Confusion Matrix"
   ]
  },
  {
   "cell_type": "code",
   "execution_count": 65,
   "metadata": {},
   "outputs": [
    {
     "name": "stdout",
     "output_type": "stream",
     "text": [
      "313/313 [==============================] - 1s 3ms/step\n"
     ]
    },
    {
     "data": {
      "text/plain": [
       "array([[ 973,    1,    0,    0,    0,    0,    3,    1,    2,    0],\n",
       "       [   0, 1131,    1,    0,    0,    0,    1,    1,    1,    0],\n",
       "       [   1,    4, 1018,    2,    0,    0,    1,    4,    2,    0],\n",
       "       [   1,    0,    2,  996,    0,    5,    0,    5,    0,    1],\n",
       "       [   0,    0,    1,    0,  973,    0,    2,    2,    0,    4],\n",
       "       [   2,    0,    0,    6,    0,  877,    3,    2,    0,    2],\n",
       "       [   4,    2,    0,    1,    1,    4,  946,    0,    0,    0],\n",
       "       [   0,    5,    6,    0,    0,    0,    0, 1015,    0,    2],\n",
       "       [   2,    1,    2,    2,    5,    3,    4,    5,  946,    4],\n",
       "       [   0,    6,    1,    4,   12,    3,    1,    9,    1,  972]])"
      ]
     },
     "execution_count": 65,
     "metadata": {},
     "output_type": "execute_result"
    }
   ],
   "source": [
    "ŷ = model.predict(x_test)\n",
    "y_pred = [np.argmax(yi) for yi in ŷ]\n",
    "confusion_matrix(y_test, y_pred)"
   ]
  },
  {
   "cell_type": "markdown",
   "metadata": {},
   "source": [
    "## Visualizing Feature maps"
   ]
  },
  {
   "cell_type": "code",
   "execution_count": 85,
   "metadata": {},
   "outputs": [
    {
     "name": "stdout",
     "output_type": "stream",
     "text": [
      "1/1 [==============================] - 0s 39ms/step\n"
     ]
    },
    {
     "data": {
      "image/png": "[encoded data removed]",
      "text/plain": [
       "<Figure size 640x480 with 6 Axes>"
      ]
     },
     "metadata": {},
     "output_type": "display_data"
    }
   ],
   "source": [
    "# Create a model that will return these outputs, given the model input\n",
    "feature_map_model = Model(inputs=model.inputs, outputs=model.layers[0].output)\n",
    "\n",
    "# Use the model to predict the features\n",
    "feature_maps = feature_map_model.predict(x_test[12].reshape(1, 28, 28, 1))\n",
    "\n",
    "\n",
    "# Plot the first few feature maps\n",
    "for i in range(6):\n",
    "    plt.subplot(2, 3, i+1)\n",
    "    plt.imshow(feature_maps[0, :, :, i], cmap='viridis')\n",
    "plt.show()\n"
   ]
  },
  {
   "cell_type": "code",
   "execution_count": 86,
   "metadata": {},
   "outputs": [
    {
     "name": "stdout",
     "output_type": "stream",
     "text": [
      "1/1 [==============================] - 0s 54ms/step\n"
     ]
    },
    {
     "data": {
      "image/png": "[encoded data removed]",
      "text/plain": [
       "<Figure size 640x480 with 16 Axes>"
      ]
     },
     "metadata": {},
     "output_type": "display_data"
    }
   ],
   "source": [
    "# Create a model that will return these outputs, given the model input\n",
    "feature_map_model = Model(inputs=model.inputs, outputs=model.layers[2].output)\n",
    "\n",
    "# Use the model to predict the features\n",
    "feature_maps = feature_map_model.predict(x_test[12].reshape(1, 28, 28, 1))\n",
    "\n",
    "\n",
    "# Plot the second feature maps\n",
    "for i in range(16):\n",
    "    plt.subplot(4, 4, i+1)\n",
    "    plt.imshow(feature_maps[0, :, :, i], cmap='viridis')\n",
    "plt.show()\n"
   ]
  },
  {
   "cell_type": "markdown",
   "metadata": {},
   "source": [
    "# Conclusion"
   ]
  },
  {
   "cell_type": "markdown",
   "metadata": {},
   "source": [
    "The CNN LeNet aproach for MNIST classification problem proved to be better than MLP because the number of parameters. Wich implies directly on time to training the model.\n",
    "\n",
    "LeNet has 44.426 parameters and my MLP approach has 1.024.080.\n",
    "\n"
   ]
  }
 ],
 "metadata": {
  "kernelspec": {
   "display_name": "Python 3",
   "language": "python",
   "name": "python3"
  },
  "language_info": {
   "codemirror_mode": {
    "name": "ipython",
    "version": 3
   },
   "file_extension": ".py",
   "mimetype": "text/x-python",
   "name": "python",
   "nbconvert_exporter": "python",
   "pygments_lexer": "ipython3",
   "version": "3.10.12"
  }
 },
 "nbformat": 4,
 "nbformat_minor": 2
}
